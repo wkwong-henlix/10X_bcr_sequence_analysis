{
 "cells": [
  {
   "cell_type": "code",
   "execution_count": 2,
   "id": "d72c059b-b44f-455e-8d8b-9c9defc6d380",
   "metadata": {},
   "outputs": [],
   "source": [
    "import pandas as pd\n",
    "import Levenshtein as lev\n",
    "from scipy.spatial.distance import pdist, squareform\n",
    "import numpy as np\n",
    "import seaborn as sns\n",
    "import matplotlib.pyplot as plt\n",
    "import os\n",
    "\n",
    "import networkx as nx\n",
    "import gravis as gv\n",
    "\n",
    "# Note you will need to download muscle into the usr/bin and rename it simply as muscle\n",
    "import biotite.sequence as seq\n",
    "import biotite.application.muscle as muscle\n",
    "import biotite.sequence.graphics as graphics\n",
    "\n",
    "from scipy.stats import mode"
   ]
  },
  {
   "cell_type": "code",
   "execution_count": 3,
   "id": "f8301da8-c625-4b0d-80da-7761a57e5cbb",
   "metadata": {},
   "outputs": [],
   "source": [
    "from biotite.sequence.align import get_sequence_identity"
   ]
  },
  {
   "cell_type": "markdown",
   "id": "65c2dc68-aebb-4a9a-9536-50a9df1c1341",
   "metadata": {},
   "source": [
    "# CDR3 Distance Metrics\n",
    "\n",
    "Notebook to try out various distance metrics to compare CDR3 sequences"
   ]
  },
  {
   "cell_type": "code",
   "execution_count": 5,
   "id": "d66bee80-3f9b-48bf-8f77-65aa2b913512",
   "metadata": {},
   "outputs": [],
   "source": [
    "os.chdir('../..')"
   ]
  },
  {
   "cell_type": "code",
   "execution_count": 7,
   "id": "1609e558-a821-4c5e-a8f1-721ae23cab56",
   "metadata": {},
   "outputs": [
    {
     "data": {
      "text/html": [
       "<div>\n",
       "<style scoped>\n",
       "    .dataframe tbody tr th:only-of-type {\n",
       "        vertical-align: middle;\n",
       "    }\n",
       "\n",
       "    .dataframe tbody tr th {\n",
       "        vertical-align: top;\n",
       "    }\n",
       "\n",
       "    .dataframe thead th {\n",
       "        text-align: right;\n",
       "    }\n",
       "</style>\n",
       "<table border=\"1\" class=\"dataframe\">\n",
       "  <thead>\n",
       "    <tr style=\"text-align: right;\">\n",
       "      <th></th>\n",
       "      <th>barcode</th>\n",
       "      <th>heavy_cdr1</th>\n",
       "      <th>heavy_cdr2</th>\n",
       "      <th>heavy_cdr3</th>\n",
       "      <th>light_cdr1</th>\n",
       "      <th>light_cdr2</th>\n",
       "      <th>light_cdr3</th>\n",
       "      <th>affinity</th>\n",
       "    </tr>\n",
       "  </thead>\n",
       "  <tbody>\n",
       "    <tr>\n",
       "      <th>0</th>\n",
       "      <td>AAACCTGAGGGCTCTC-1</td>\n",
       "      <td>GGSISSGSY</td>\n",
       "      <td>YTSGS</td>\n",
       "      <td>CARGDSSGWRGGNWFDPW</td>\n",
       "      <td>TGSSSNIGAGYDVH</td>\n",
       "      <td>GNSNRPS</td>\n",
       "      <td>CQSYDSSLSDVF</td>\n",
       "      <td>0.266858</td>\n",
       "    </tr>\n",
       "    <tr>\n",
       "      <th>1</th>\n",
       "      <td>AAACCTGGTAAGGATT-1</td>\n",
       "      <td>GYTLTGY</td>\n",
       "      <td>NTNSGG</td>\n",
       "      <td>CAMGYCINNNCYEGWFDPW</td>\n",
       "      <td>KSSQSVLYSSNKKNYLA</td>\n",
       "      <td>WASTRES</td>\n",
       "      <td>CQQYYDTPRTF</td>\n",
       "      <td>0.333075</td>\n",
       "    </tr>\n",
       "    <tr>\n",
       "      <th>2</th>\n",
       "      <td>AAACCTGGTAATAGCA-1</td>\n",
       "      <td>GYTFTSY</td>\n",
       "      <td>SAYNGN</td>\n",
       "      <td>CARAKRWGYSSSWCDYW</td>\n",
       "      <td>SGSSSNIGSNTVN</td>\n",
       "      <td>SNNQRPS</td>\n",
       "      <td>CAAWDDSLNGGVF</td>\n",
       "      <td>0.757931</td>\n",
       "    </tr>\n",
       "    <tr>\n",
       "      <th>3</th>\n",
       "      <td>AAACCTGGTACGCACC-1</td>\n",
       "      <td>GYTFTSY</td>\n",
       "      <td>NTNTGN</td>\n",
       "      <td>CARALGAIELFDYW</td>\n",
       "      <td>GSSTGAVTSGHYPY</td>\n",
       "      <td>DTSNKHS</td>\n",
       "      <td>CLLSYSGAHVVF</td>\n",
       "      <td>0.404049</td>\n",
       "    </tr>\n",
       "    <tr>\n",
       "      <th>4</th>\n",
       "      <td>AAACCTGTCTATGTGG-1</td>\n",
       "      <td>GYTFTSY</td>\n",
       "      <td>NTNTGN</td>\n",
       "      <td>CAREYPTVVPAALGYYGMDVW</td>\n",
       "      <td>SGSSSNIGSNTVN</td>\n",
       "      <td>SNNQRPS</td>\n",
       "      <td>CAAWDDSLNGWVF</td>\n",
       "      <td>0.587283</td>\n",
       "    </tr>\n",
       "    <tr>\n",
       "      <th>5</th>\n",
       "      <td>AAACGGGTCCAGTAGT-1</td>\n",
       "      <td>GFTFDDY</td>\n",
       "      <td>SWNSGS</td>\n",
       "      <td>CAKDSGVAGTGFSYGMDVW</td>\n",
       "      <td>RASQSISSYLN</td>\n",
       "      <td>AASSLQS</td>\n",
       "      <td>CQQSYSTLWTF</td>\n",
       "      <td>0.657014</td>\n",
       "    </tr>\n",
       "    <tr>\n",
       "      <th>6</th>\n",
       "      <td>AAACGGGTCGCAGGCT-1</td>\n",
       "      <td>GYTFTGY</td>\n",
       "      <td>NPNSGG</td>\n",
       "      <td>CASGPLKWELMIDYW</td>\n",
       "      <td>TGTSSDVGGYNYVS</td>\n",
       "      <td>DVSNRPS</td>\n",
       "      <td>CSSYTSSSTRVF</td>\n",
       "      <td>0.693784</td>\n",
       "    </tr>\n",
       "    <tr>\n",
       "      <th>7</th>\n",
       "      <td>AAAGATGAGATCTGCT-1</td>\n",
       "      <td>GFTFSSY</td>\n",
       "      <td>SYDGSN</td>\n",
       "      <td>CARDYRPDYYYGSGSYYNVPMDGMDVW</td>\n",
       "      <td>TGTSSDVGGYNYVS</td>\n",
       "      <td>DVSNRPS</td>\n",
       "      <td>CSSYTSSSTRVF</td>\n",
       "      <td>0.408279</td>\n",
       "    </tr>\n",
       "    <tr>\n",
       "      <th>8</th>\n",
       "      <td>AAAGATGCACCCTATC-1</td>\n",
       "      <td>GFSFNTY</td>\n",
       "      <td>RYDGKN</td>\n",
       "      <td>CAKDWGVSGDGGAYLDYW</td>\n",
       "      <td>SGRSSNIGSNNVY</td>\n",
       "      <td>KTNQRPS</td>\n",
       "      <td>CAAWDDSLGVVLF</td>\n",
       "      <td>0.901855</td>\n",
       "    </tr>\n",
       "    <tr>\n",
       "      <th>9</th>\n",
       "      <td>AAAGATGCATGCATGT-1</td>\n",
       "      <td>GGSISNSDY</td>\n",
       "      <td>YYGGN</td>\n",
       "      <td>CARSPCSGGSCPYWYFDLW</td>\n",
       "      <td>TGTSSDIGGYNYVS</td>\n",
       "      <td>DVSNRPS</td>\n",
       "      <td>CSSYTSGSTVF</td>\n",
       "      <td>0.557566</td>\n",
       "    </tr>\n",
       "  </tbody>\n",
       "</table>\n",
       "</div>"
      ],
      "text/plain": [
       "              barcode heavy_cdr1 heavy_cdr2                   heavy_cdr3  \\\n",
       "0  AAACCTGAGGGCTCTC-1  GGSISSGSY      YTSGS           CARGDSSGWRGGNWFDPW   \n",
       "1  AAACCTGGTAAGGATT-1    GYTLTGY     NTNSGG          CAMGYCINNNCYEGWFDPW   \n",
       "2  AAACCTGGTAATAGCA-1    GYTFTSY     SAYNGN            CARAKRWGYSSSWCDYW   \n",
       "3  AAACCTGGTACGCACC-1    GYTFTSY     NTNTGN               CARALGAIELFDYW   \n",
       "4  AAACCTGTCTATGTGG-1    GYTFTSY     NTNTGN        CAREYPTVVPAALGYYGMDVW   \n",
       "5  AAACGGGTCCAGTAGT-1    GFTFDDY     SWNSGS          CAKDSGVAGTGFSYGMDVW   \n",
       "6  AAACGGGTCGCAGGCT-1    GYTFTGY     NPNSGG              CASGPLKWELMIDYW   \n",
       "7  AAAGATGAGATCTGCT-1    GFTFSSY     SYDGSN  CARDYRPDYYYGSGSYYNVPMDGMDVW   \n",
       "8  AAAGATGCACCCTATC-1    GFSFNTY     RYDGKN           CAKDWGVSGDGGAYLDYW   \n",
       "9  AAAGATGCATGCATGT-1  GGSISNSDY      YYGGN          CARSPCSGGSCPYWYFDLW   \n",
       "\n",
       "          light_cdr1 light_cdr2     light_cdr3  affinity  \n",
       "0     TGSSSNIGAGYDVH    GNSNRPS   CQSYDSSLSDVF  0.266858  \n",
       "1  KSSQSVLYSSNKKNYLA    WASTRES    CQQYYDTPRTF  0.333075  \n",
       "2      SGSSSNIGSNTVN    SNNQRPS  CAAWDDSLNGGVF  0.757931  \n",
       "3     GSSTGAVTSGHYPY    DTSNKHS   CLLSYSGAHVVF  0.404049  \n",
       "4      SGSSSNIGSNTVN    SNNQRPS  CAAWDDSLNGWVF  0.587283  \n",
       "5        RASQSISSYLN    AASSLQS    CQQSYSTLWTF  0.657014  \n",
       "6     TGTSSDVGGYNYVS    DVSNRPS   CSSYTSSSTRVF  0.693784  \n",
       "7     TGTSSDVGGYNYVS    DVSNRPS   CSSYTSSSTRVF  0.408279  \n",
       "8      SGRSSNIGSNNVY    KTNQRPS  CAAWDDSLGVVLF  0.901855  \n",
       "9     TGTSSDIGGYNYVS    DVSNRPS    CSSYTSGSTVF  0.557566  "
      ]
     },
     "execution_count": 7,
     "metadata": {},
     "output_type": "execute_result"
    }
   ],
   "source": [
    "config = pd.read_csv(\"data/10X_bcr_vdj_example/sc5p_v2_hs_B_1k_b/filtered_contig_annotations.csv\")\n",
    "\n",
    "# Filter out any barcodes that don't have exactly two chains\n",
    "barcode_counts = config.groupby(\"barcode\").count()[[\"is_cell\"]].reset_index()\n",
    "barcode_to_filter = list(barcode_counts[barcode_counts['is_cell'] != 2]['barcode'])\n",
    "config = config[~config['barcode'].isin(barcode_to_filter)]\n",
    "\n",
    "# Filter out any barcodes with two of the same chains (ie only two heavy chains)\n",
    "chain_counts = config.groupby([\"barcode\", \"chain\"]).count().reset_index()\n",
    "chain_to_filter = list(chain_counts[chain_counts['is_cell'] == 2]['barcode'])\n",
    "config = config[~config['barcode'].isin(chain_to_filter)]\n",
    "\n",
    "# Extract out the relevant sequences per chain\n",
    "# Rename columns so its clear which chain the cdr belongs to \n",
    "config_heavy = config[config['chain'] == \"IGH\"][['barcode', 'cdr1', 'cdr2', 'cdr3']]\n",
    "config_heavy = config_heavy.rename(columns={\"cdr1\": \"heavy_cdr1\", \"cdr2\": \"heavy_cdr2\", \"cdr3\": \"heavy_cdr3\"})\n",
    "config_light = config[config['chain'] != \"IGH\"][['barcode', 'cdr1', 'cdr2', 'cdr3']]\n",
    "config_light = config_light.rename(columns={\"cdr1\": \"light_cdr1\", \"cdr2\": \"light_cdr2\", \"cdr3\": \"light_cdr3\"})\n",
    "\n",
    "# Recombine the two dataframes together\n",
    "cdr3_sequences = config_heavy.set_index(\"barcode\").join(config_light.set_index(\"barcode\")).reset_index()\n",
    "\n",
    "# Generate randomized affinity column\n",
    "cdr3_sequences['affinity'] = np.random.rand(cdr3_sequences.shape[0])\n",
    "\n",
    "cdr3_sequences = cdr3_sequences.head(10)\n",
    "\n",
    "cdr3_sequences"
   ]
  },
  {
   "cell_type": "markdown",
   "id": "f4a2b13a-bf60-4e87-bca4-e37209db55ce",
   "metadata": {},
   "source": [
    "## Global Functions and Variables"
   ]
  },
  {
   "cell_type": "code",
   "execution_count": 8,
   "id": "a4d3dd53-119b-4d90-80ae-ab96e525ff62",
   "metadata": {},
   "outputs": [],
   "source": [
    "def apply_distance_to_sequence(df, cdr, weight, distance_func):\n",
    "    \n",
    "    # Prepare 2 dimensional array M x N (M entries (len cdr3_sequences) with N dimensions (1)) \n",
    "    transformed_strings = np.array(df[cdr]).reshape(-1,1)\n",
    "            \n",
    "    # Apply distance function\n",
    "    distance_calculations = pdist(transformed_strings, lambda x,y: distance_func(cdr, x[0], y[0]))\n",
    "            \n",
    "    # Square distance matrix\n",
    "    distance_matrix = squareform(distance_calculations).astype(np.int64)\n",
    "            \n",
    "    # Multiple distance matrix by the weight\n",
    "    distance_matrix = distance_matrix*weight   \n",
    "    \n",
    "    return distance_matrix"
   ]
  },
  {
   "cell_type": "code",
   "execution_count": null,
   "id": "cd23381f-331b-4d89-a106-019e4ff15412",
   "metadata": {},
   "outputs": [],
   "source": []
  },
  {
   "cell_type": "markdown",
   "id": "85fab945-7e1b-457d-95d6-a1f42ca9e7ba",
   "metadata": {},
   "source": [
    "## Distance Metrics\n",
    "\n",
    "Possible distance metrics to try out..."
   ]
  },
  {
   "cell_type": "markdown",
   "id": "26c08d83-4b86-4dfa-99c8-39bb0a4bc88d",
   "metadata": {},
   "source": [
    "Levenshtein distance: https://en.wikipedia.org/wiki/Levenshtein_distance"
   ]
  },
  {
   "cell_type": "code",
   "execution_count": 9,
   "id": "ff9bd569-043f-40e9-a5d9-ef1fb3b2163b",
   "metadata": {},
   "outputs": [],
   "source": [
    "def levenshtein(cdr, seq1, seq2):\n",
    "    return lev.distance(seq1, seq2)"
   ]
  },
  {
   "cell_type": "code",
   "execution_count": 32,
   "id": "6b0badfb-197b-4871-9a1f-4641bc5dde7e",
   "metadata": {},
   "outputs": [],
   "source": [
    "# Generate blosum matrix for alignment scoring\n",
    "alph = seq.ProteinSequence.alphabet\n",
    "blosum_matrix = seq.align.SubstitutionMatrix(alph, alph, \"BLOSUM62\")\n",
    "\n",
    "def align_similarity_score(cdr, seq1, seq2):\n",
    "    seq1 = seq.ProteinSequence(seq1)\n",
    "    seq2 = seq.ProteinSequence(seq2)\n",
    "    \n",
    "    # Align the two sequences with global alignment\n",
    "    alignment = seq.align.align_optimal(seq1, seq2, blosum_matrix, local=False)\n",
    "    \n",
    "    return alignment[0].score"
   ]
  },
  {
   "cell_type": "code",
   "execution_count": 33,
   "id": "242dea6a-dfc4-4c0e-ae94-d23260458356",
   "metadata": {},
   "outputs": [
    {
     "data": {
      "text/plain": [
       "0"
      ]
     },
     "execution_count": 33,
     "metadata": {},
     "output_type": "execute_result"
    }
   ],
   "source": [
    "align_similarity_score(\"hi\", \"GGSISSGSY\", \"GYTLTGY\")"
   ]
  },
  {
   "cell_type": "code",
   "execution_count": 34,
   "id": "4f2cf2e1-01c1-4dec-9c0f-ed266019cada",
   "metadata": {},
   "outputs": [
    {
     "data": {
      "text/plain": [
       "array([[  0,  34,  35,  -3,  -3,  20,   6, -42,  30,  37],\n",
       "       [ 34,   0,   6, -14,   6,  17,  -7, -46,  16,  41],\n",
       "       [ 35,   6,   0,  15, -14,  11,   9, -50,  24,  22],\n",
       "       [ -3, -14,  15,   0, -29, -12,  24, -87,   3,  -6],\n",
       "       [ -3,   6, -14, -29,   0,  35, -27,  11,  14,  22],\n",
       "       [ 20,  17,  11, -12,  35,   0,  -7, -16,  56,  24],\n",
       "       [  6,  -7,   9,  24, -27,  -7,   0, -78,   5, -10],\n",
       "       [-42, -46, -50, -87,  11, -16, -78,   0, -36, -27],\n",
       "       [ 30,  16,  24,   3,  14,  56,   5, -36,   0,  18],\n",
       "       [ 37,  41,  22,  -6,  22,  24, -10, -27,  18,   0]])"
      ]
     },
     "execution_count": 34,
     "metadata": {},
     "output_type": "execute_result"
    }
   ],
   "source": [
    "apply_distance_to_sequence(cdr3_sequences, \"heavy_cdr3\", 1, align_similarity_score)"
   ]
  },
  {
   "cell_type": "code",
   "execution_count": null,
   "id": "8adde44e-aebc-4134-a4ca-e1b5262c5a38",
   "metadata": {},
   "outputs": [],
   "source": []
  }
 ],
 "metadata": {
  "environment": {
   "kernel": "python3",
   "name": "common-cpu.m98",
   "type": "gcloud",
   "uri": "gcr.io/deeplearning-platform-release/base-cpu:m98"
  },
  "kernelspec": {
   "display_name": "Python 3",
   "language": "python",
   "name": "python3"
  },
  "language_info": {
   "codemirror_mode": {
    "name": "ipython",
    "version": 3
   },
   "file_extension": ".py",
   "mimetype": "text/x-python",
   "name": "python",
   "nbconvert_exporter": "python",
   "pygments_lexer": "ipython3",
   "version": "3.7.12"
  }
 },
 "nbformat": 4,
 "nbformat_minor": 5
}
